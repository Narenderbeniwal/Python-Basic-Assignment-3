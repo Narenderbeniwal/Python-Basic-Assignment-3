{
 "cells": [
  {
   "cell_type": "raw",
   "metadata": {},
   "source": [
    "Q 1. Why are functions advantageous to have in your programs?\n",
    "Solution: Use of functions enhances the readability of a program. A big code is always difficult to read. Breaking the code in smaller Functions keeps the program organized, easy to understand and makes it reusable. Also Functions reduce the need for duplicate code. This makes programs shorter, easier to read, and easier to update. "
   ]
  },
  {
   "cell_type": "raw",
   "metadata": {},
   "source": [
    "Q. 2. When does the code in a function run: when it's specified or when it's called?\n",
    "Solution: The code in function is run whem it's called not when function is specified.\n"
   ]
  },
  {
   "cell_type": "raw",
   "metadata": {},
   "source": [
    "Q 3. What statement creates a function?\n",
    "Solution: The def statement define or create a function.\n"
   ]
  },
  {
   "cell_type": "raw",
   "metadata": {},
   "source": [
    "Q 4. What is the difference between a function and a function call?\n",
    "Solution: A function is a piece of code which enhanced the reusability and modularity of your program. It means that piece of code need not be written again.\n",
    "A function call means invoking or calling that function. Unless a function is called there is no use of that function."
   ]
  },
  {
   "cell_type": "raw",
   "metadata": {},
   "source": [
    "Q 5. How many global scopes are there in a Python program? How many local scopes?\n",
    "Solution: There is one global scope, and a local scope is created whenever a function is called."
   ]
  },
  {
   "cell_type": "raw",
   "metadata": {},
   "source": [
    "Q 6. What happens to variables in a local scope when the function call returns?\n",
    "Solution: When a function returns, the local scope is destroyed, and all the variables in it are forgotten."
   ]
  },
  {
   "cell_type": "raw",
   "metadata": {},
   "source": [
    "Q 7. What is the concept of a return value? Is it possible to have a return value in an expression?\n",
    "Solution: A return value is the value that a function call evaluates to. Like any value, a return value can be used as part of an expression.\n",
    "\n"
   ]
  },
  {
   "cell_type": "raw",
   "metadata": {},
   "source": [
    "Q 8. If a function does not have a return statement, what is the return value of a call to that function?\n",
    "Solution: If a function does not have a return statement, then the return value of a call to that function will be none."
   ]
  },
  {
   "cell_type": "raw",
   "metadata": {},
   "source": [
    "Q 9. How do you make a function variable refer to the global variable?\n",
    "Solution: If you want to refer to a global variable in a function, you can use the global keyword to declare which variables are global."
   ]
  },
  {
   "cell_type": "raw",
   "metadata": {},
   "source": [
    "Q 10. What is the data type of None?\n",
    "Solution: The data type of None is none"
   ]
  },
  {
   "cell_type": "raw",
   "metadata": {},
   "source": [
    "Q 11. What does the sentence import areallyourpetsnamederic do?\n",
    "Solution: That import statement imports a module named areallyourpetsnamederic. (This isn’t a real Python module, by the way.)"
   ]
  },
  {
   "cell_type": "raw",
   "metadata": {},
   "source": [
    "12. If you had a bacon() feature in a spam module, what would you call it after importing spam?\n",
    "Solution: This function can be called with spam. bacon()."
   ]
  },
  {
   "cell_type": "raw",
   "metadata": {},
   "source": [
    "Q 13. What can you do to save a programme from crashing if it encounters an error?\n",
    "Solution: Place the line of code that might cause an error in a try clause."
   ]
  },
  {
   "cell_type": "raw",
   "metadata": {},
   "source": [
    "Q 14. What is the purpose of the try clause? What is the purpose of the except clause?\n",
    "Sol:  The code that could potentially cause an error goes in the try clause.\n",
    "\n",
    "The code that executes if an error happens goes in the except clause."
   ]
  }
 ],
 "metadata": {
  "kernelspec": {
   "display_name": "Python 3",
   "language": "python",
   "name": "python3"
  },
  "language_info": {
   "codemirror_mode": {
    "name": "ipython",
    "version": 3
   },
   "file_extension": ".py",
   "mimetype": "text/x-python",
   "name": "python",
   "nbconvert_exporter": "python",
   "pygments_lexer": "ipython3",
   "version": "3.8.5"
  }
 },
 "nbformat": 4,
 "nbformat_minor": 4
}
